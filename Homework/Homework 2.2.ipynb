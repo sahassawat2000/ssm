{
 "cells": [
  {
   "cell_type": "code",
   "execution_count": 2,
   "metadata": {},
   "outputs": [],
   "source": [
    "import numpy as np\n",
    "import matplotlib.pyplot as plt\n",
    "import math\n",
    "import matplotlib.animation as animation"
   ]
  },
  {
   "cell_type": "markdown",
   "id": "cc75b182",
   "metadata": {},
   "source": [
    "### Homework 2.2 - Heat Transfer\n",
    "\n",
    "Use the finite differential method to solve a heat transfer equation, given by\n",
    "\n",
    "$$ \\frac{{\\partial T}}{{\\partial t}} = k\\frac{{{\\partial ^2}T}}{{\\partial {x^2}}} $$\n",
    "\n",
    "where $T(t, x)$ is the temperature distribution function.\n",
    "\n",
    "Solve the equation for $x$ between 0 and 1. At $x=0$ the temperature varies as $T(t,0)=sin(10t)$ and at At $x=1$ the temperature varies as $T(t,0)=e^{ - 100 (t - 0.15)^2}$.\n",
    "\n",
    "Make the animated clip of the temperature distribution function evolution. Pick appropriate time range."
   ]
  },
  {
   "cell_type": "code",
   "execution_count": 8,
   "id": "0f9239be",
   "metadata": {},
   "outputs": [
    {
     "data": {
      "image/png": "[encoded data removed]",
      "text/plain": [
       "<Figure size 432x288 with 1 Axes>"
      ]
     },
     "metadata": {
      "needs_background": "light"
     },
     "output_type": "display_data"
    }
   ],
   "source": [
    "k = 0.2\n",
    "n = 100\n",
    "l = 1.\n",
    "xs = np.linspace(0, l, n, endpoint=True)\n",
    "Txj = np.zeros(101)\n",
    "\n",
    "dt = 1e-4\n",
    "dh = l/n\n",
    "eps = k*dt/(dh**2)\n",
    "\n",
    "Tall = np.array([Txj[:n]])\n",
    "\n",
    "# temperature value\n",
    "for j in np.linspace(0, 100, 200):\n",
    "    Tnew = np.zeros(101)\n",
    "    Tnew[0] = math.sin(10*j/n)\n",
    "    for i in np.linspace(1, n-1, n-1, dtype=int):\n",
    "        Tnew[i] = eps*(Txj[i+1] - 2*Txj[i] + Txj[i-1]) + Txj[i]\n",
    "    Tnew[n-1] = math.exp(-100*(j/n-0.15)**2)\n",
    "    Txj = Tnew\n",
    "    Tall = np.vstack([Tall, Tnew[:n]])\n",
    "\n",
    "def update_linex(num, line):\n",
    "    line.set_data(xs, Tall[num])\n",
    "    return line,\n",
    "\n",
    "fig1 = plt.figure()\n",
    "ll = plt.plot(xs, Txj[:n])\n",
    "axes = plt.gca()\n",
    "axes.set_ylim([-1,1])\n",
    "line_ani = animation.FuncAnimation(fig1, update_linex, 200, fargs=(ll), interval=20, blit=True)\n",
    "line_ani.save('temp-dist.mp4', fps=30, extra_args=['-vcodec', 'libx264'])\n",
    "plt.show()"
   ]
  },
  {
   "cell_type": "code",
   "execution_count": null,
   "metadata": {},
   "outputs": [],
   "source": []
  }
 ],
 "metadata": {
  "interpreter": {
   "hash": "aee8b7b246df8f9039afb4144a1f6fd8d2ca17a180786b69acc140d282b71a49"
  },
  "kernelspec": {
   "display_name": "Python 3.8.5 64-bit",
   "name": "python3"
  },
  "language_info": {
   "codemirror_mode": {
    "name": "ipython",
    "version": 3
   },
   "file_extension": ".py",
   "mimetype": "text/x-python",
   "name": "python",
   "nbconvert_exporter": "python",
   "pygments_lexer": "ipython3",
   "version": "3.8.5"
  }
 },
 "nbformat": 4,
 "nbformat_minor": 5
}
