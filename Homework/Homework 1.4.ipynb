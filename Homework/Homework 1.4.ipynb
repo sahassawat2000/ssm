{
 "cells": [
  {
   "cell_type": "code",
   "execution_count": 1,
   "metadata": {},
   "outputs": [],
   "source": [
    "import numpy as np\n",
    "import matplotlib.pyplot as plt\n",
    "from scipy.integrate import odeint"
   ]
  },
  {
   "cell_type": "markdown",
   "metadata": {},
   "source": [
    "### Homework 1.4.1 - Shooting Method\n",
    "\n",
    "By using shooting method, solve\n",
    "\n",
    "$$\n",
    "\\frac{d^2 T}{d x^2} + \\alpha (T_0 - T) = 0\n",
    "$$\n",
    "\n",
    "Where $\\alpha = 5\\times10^{-2}$, and $T_0 = 20$, subjected to $T(0) = 50$ and $T(10) = 200$"
   ]
  },
  {
   "cell_type": "code",
   "execution_count": 2,
   "metadata": {
    "collapsed": true
   },
   "outputs": [
    {
     "name": "stdout",
     "output_type": "stream",
     "text": [
      "T(10) = 200\n",
      "T(10)_guess = 1030.0783066501494\n",
      "T(10) = 200\n",
      "T(10)_guess = -1467.5725109681025\n"
     ]
    }
   ],
   "source": [
    "# constants\n",
    "alpha = 5*10e-2\n",
    "\n",
    "# initial conditions\n",
    "T0 = 20\n",
    "\n",
    "# boundary conditions\n",
    "T_0 = 50\n",
    "T_10 = 200\n",
    "\n",
    "t = np.linspace(0,10,100)\n",
    "guess1 = -20\n",
    "guess2 = -23\n",
    "def rhs(y, t):\n",
    "    return [y[1], -alpha*(T0 - y[0])]\n",
    "\n",
    "def print_description(y, t):\n",
    "    print(\"T(10) = 200\")\n",
    "    print(f'T(10)_guess = {y[-1,0]}')\n",
    "\n",
    "print_description(odeint(rhs, [T_0,guess1], t),t)\n",
    "print_description(odeint(rhs, [T_0,guess2], t),t)"
   ]
  },
  {
   "cell_type": "code",
   "execution_count": 4,
   "metadata": {},
   "outputs": [
    {
     "name": "stdout",
     "output_type": "stream",
     "text": [
      "T(a)= 830.0783066501494\n",
      "T(b)= -1667.5725109681025\n",
      "Optimized T prime using shooting method is T'=-20.99703087574244 m/s\n"
     ]
    }
   ],
   "source": [
    "from scipy.optimize import brentq\n",
    "\n",
    "def objective_func(T_guess):\n",
    "    sol = odeint(rhs, [T_0, T_guess], t)\n",
    "    T_final = sol[-1, 0]\n",
    "    return T_final - T_10\n",
    "\n",
    "print('T(a)=', objective_func(-20))\n",
    "print('T(b)=', objective_func(-23))\n",
    "\n",
    "T_prime = brentq(objective_func, -20, -23)\n",
    "print(f'Optimized T prime using shooting method is T\\'={T_prime} m/s')"
   ]
  },
  {
   "cell_type": "code",
   "execution_count": 5,
   "metadata": {},
   "outputs": [
    {
     "name": "stdout",
     "output_type": "stream",
     "text": [
      "T(10) = 200\n",
      "T(10)_guess = 200.00000000000273\n"
     ]
    }
   ],
   "source": [
    "guess3 = -20.99703087574244\n",
    "print_description(odeint(rhs, [T_0,guess3], t),t)"
   ]
  },
  {
   "cell_type": "markdown",
   "metadata": {},
   "source": [
    "___\n",
    "### Homework 1.4.2 - Finite Difference Method\n",
    "\n",
    "Solve Homework 1.4.1 using finite difference method"
   ]
  },
  {
   "cell_type": "code",
   "execution_count": 6,
   "metadata": {},
   "outputs": [
    {
     "data": {
      "text/plain": [
       "[<matplotlib.lines.Line2D at 0x7fdf2d84fb50>]"
      ]
     },
     "execution_count": 6,
     "metadata": {},
     "output_type": "execute_result"
    },
    {
     "data": {
      "image/png": "[encoded data removed]",
      "text/plain": [
       "<Figure size 432x288 with 1 Axes>"
      ]
     },
     "metadata": {
      "needs_background": "light"
     },
     "output_type": "display_data"
    }
   ],
   "source": [
    "n = 1000\n",
    "h = (10 - 0)/n\n",
    "\n",
    "# Matrix A\n",
    "A = np.zeros((n+1,n+1))\n",
    "A[0, 0] = 1\n",
    "A[n, n] = 1\n",
    "for i in range(1, n):\n",
    "    A[i, i-1] = 1\n",
    "    A[i, i] = -2\n",
    "    A[i, i+1] = 1\n",
    "\n",
    "# Matrix B\n",
    "b = np.zeros(n+1)\n",
    "b[0] = 50\n",
    "b[-1] = 200\n",
    "for i in range(1,len(b)-1):\n",
    "    b[i] = -alpha*(T0 - b[i-1])*h**2\n",
    "\n",
    "y = np.linalg.solve(A, b)\n",
    "t = np.linspace(0, 10, n + 1)\n",
    "plt.plot(t, y)\n",
    "plt.plot(0, 50, 'ro')\n",
    "plt.plot(10, 200, 'ro')"
   ]
  },
  {
   "cell_type": "code",
   "execution_count": 7,
   "metadata": {},
   "outputs": [
    {
     "data": {
      "text/plain": [
       "array([ 50.        ,  50.6470273 ,  51.2955546 , ..., 200.6980449 ,\n",
       "       200.34952248, 200.        ])"
      ]
     },
     "execution_count": 7,
     "metadata": {},
     "output_type": "execute_result"
    }
   ],
   "source": [
    "y"
   ]
  },
  {
   "cell_type": "code",
   "execution_count": null,
   "metadata": {},
   "outputs": [],
   "source": []
  }
 ],
 "metadata": {
  "interpreter": {
   "hash": "aee8b7b246df8f9039afb4144a1f6fd8d2ca17a180786b69acc140d282b71a49"
  },
  "kernelspec": {
   "display_name": "Python 3.8.5 64-bit",
   "name": "python3"
  },
  "language_info": {
   "codemirror_mode": {
    "name": "ipython",
    "version": 3
   },
   "file_extension": ".py",
   "mimetype": "text/x-python",
   "name": "python",
   "nbconvert_exporter": "python",
   "pygments_lexer": "ipython3",
   "version": "3.8.5"
  }
 },
 "nbformat": 4,
 "nbformat_minor": 1
}
