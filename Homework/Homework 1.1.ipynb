{
 "cells": [
  {
   "cell_type": "code",
   "execution_count": 2,
   "metadata": {},
   "outputs": [],
   "source": [
    "from scipy import integrate\n",
    "import math\n",
    "import numpy as np"
   ]
  },
  {
   "cell_type": "markdown",
   "metadata": {},
   "source": [
    "## Homework 1.1 - Electro static potential of a square disc\n",
    "\n",
    "Consider a square region in the $xy$-plane, such that $-1 \\le x \\le 1$ and $-1 \\le y \\le 1$, containing a uniform charge distribution $\\rho$. The electro static potential at the point $(x_p, y_p)$ due to this charge distribution is obtained by integrating over the charged region.\n",
    "\n",
    "$$\\Phi ({x_p},{y_p}) = \\frac{\\rho }{{4\\pi {\\varepsilon _0}}}\\int_{ - 1}^1 {\\int_{ - 1}^1 {\\frac{1}{{\\sqrt {{{(x - {x_p})}^2} + {{(y - {y_p})}^2}} }}} {dxdy} } $$\n",
    "\n",
    "For simplicity, use $\\frac{\\rho }{{4\\pi {\\varepsilon _0}}} = 1$. Evaluate the electric potentials $\\Phi(2, 2)$, $\\Phi(2, 4)$, $\\Phi(5, 10)$ and  $\\Phi(15, 15)$."
   ]
  },
  {
   "cell_type": "code",
   "execution_count": 3,
   "metadata": {
    "collapsed": true
   },
   "outputs": [
    {
     "name": "stdout",
     "output_type": "stream",
     "text": [
      "rho(2,2) = 1.4493948762686601\n",
      "rho(2,4) = 0.9021779766984398\n",
      "rho(5,10) = 0.358250859760195\n",
      "rho(15,15) = 0.18863186362999226\n"
     ]
    }
   ],
   "source": [
    "def integrand(x, xp, y, yp):\n",
    "   return 1/math.sqrt((x-xp)**2 + (y-yp)**2)\n",
    " \n",
    "def first_int(xp, y, yp):\n",
    "   res = integrate.quad(integrand, -1, 1, args=(xp, y, yp))\n",
    "   return res[0]\n",
    " \n",
    "def rho(xp, yp):\n",
    "   res = integrate.quad(lambda y: first_int(xp, y, yp), -1,1)\n",
    "   return res\n",
    "  \n",
    "print(f'rho(2,2) = {rho(2,2)[0]}')\n",
    "print(f'rho(2,4) = {rho(2,4)[0]}')\n",
    "print(f'rho(5,10) = {rho(5,10)[0]}')\n",
    "print(f'rho(15,15) = {rho(15,15)[0]}')"
   ]
  }
 ],
 "metadata": {
  "interpreter": {
   "hash": "aee8b7b246df8f9039afb4144a1f6fd8d2ca17a180786b69acc140d282b71a49"
  },
  "kernelspec": {
   "display_name": "Python 3.8.5 64-bit",
   "name": "python3"
  },
  "language_info": {
   "codemirror_mode": {
    "name": "ipython",
    "version": 3
   },
   "file_extension": ".py",
   "mimetype": "text/x-python",
   "name": "python",
   "nbconvert_exporter": "python",
   "pygments_lexer": "ipython3",
   "version": "3.8.5"
  }
 },
 "nbformat": 4,
 "nbformat_minor": 1
}
