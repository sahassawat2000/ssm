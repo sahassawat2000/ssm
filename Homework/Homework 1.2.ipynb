{
 "cells": [
  {
   "cell_type": "code",
   "execution_count": 1,
   "metadata": {},
   "outputs": [],
   "source": [
    "from scipy.integrate import odeint\n",
    "import numpy as np\n",
    "import matplotlib.pyplot as plt"
   ]
  },
  {
   "cell_type": "markdown",
   "metadata": {},
   "source": [
    "## Homework 1.2 - Projectile motion under strong air resistance\n",
    "\n",
    "Consider a projectile problem under gravity $\\mathbf g$ and air resistance that is directly proportional to the square of its speed, i.e. $c |\\mathbf v|^2$.\n",
    "\n",
    "Given that $g = 9.8\\;m/s^2$ and $c = 0.1\\;m^{-1}$.\n",
    "\n",
    "Subjected to the initial conditions:\n",
    "\n",
    "$$x = 0, y = 0, v_x = 20 \\; m/s \\; \\text{and}\\;  v_y = 0$$\n",
    "\n",
    "First **write down** the governing equation of motion.\n",
    "\n",
    "Hence, **write down** the vector $\\mathbf{v}$ and the matrix equation for $\\frac{d\\mathbf{v}}{dt}$.\n",
    "\n",
    "**Solve** the problem for $x$ and $y$ on the time interval $0 \\le t \\le 10\\; s$..\n",
    "\n",
    "Then, **plot graph** of both components as function of time."
   ]
  },
  {
   "cell_type": "code",
   "execution_count": 2,
   "metadata": {
    "collapsed": true
   },
   "outputs": [
    {
     "data": {
      "text/plain": [
       "<matplotlib.legend.Legend at 0x7fbf0da57a00>"
      ]
     },
     "execution_count": 2,
     "metadata": {},
     "output_type": "execute_result"
    },
    {
     "data": {
      "image/png": "[encoded data removed]",
      "text/plain": [
       "<Figure size 432x288 with 1 Axes>"
      ]
     },
     "metadata": {
      "needs_background": "light"
     },
     "output_type": "display_data"
    }
   ],
   "source": [
    "y_init = [0,0,20,0]\n",
    " \n",
    "t = np.arange(0, 10.0, 0.1)\n",
    " \n",
    "c = 0.1\n",
    "g = 9.8\n",
    " \n",
    "def rhs(c, y, t):\n",
    "   return [y[2],y[3],-c*abs(y[2]**2 + y[3]**2)*y[2], -(g + c*abs(y[2]**2 + y[3]**2)*y[3])]\n",
    "   #return [-c*np.abs(y[0])**2, -(g+c*(np.abs(y[1])**2)), y[0], y[1]]\n",
    "y1 = odeint(lambda y, t: rhs(0, y, t), y_init, t)\n",
    "y2 = odeint(lambda y, t: rhs(c, y, t), y_init, t)\n",
    " \n",
    "plt.plot(y1[:,0], y1[:,1])\n",
    "plt.plot(y2[:,0], y2[:,1])\n",
    "plt.legend(['no drag', 'drag'])"
   ]
  },
  {
   "cell_type": "code",
   "execution_count": null,
   "metadata": {},
   "outputs": [],
   "source": []
  }
 ],
 "metadata": {
  "interpreter": {
   "hash": "aee8b7b246df8f9039afb4144a1f6fd8d2ca17a180786b69acc140d282b71a49"
  },
  "kernelspec": {
   "display_name": "Python 3.8.5 64-bit",
   "name": "python3"
  },
  "language_info": {
   "codemirror_mode": {
    "name": "ipython",
    "version": 3
   },
   "file_extension": ".py",
   "mimetype": "text/x-python",
   "name": "python",
   "nbconvert_exporter": "python",
   "pygments_lexer": "ipython3",
   "version": "3.8.5"
  }
 },
 "nbformat": 4,
 "nbformat_minor": 1
}
